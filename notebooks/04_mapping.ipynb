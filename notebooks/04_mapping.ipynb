{
 "cells": [
  {
   "cell_type": "code",
   "execution_count": 1,
   "id": "43eee02a",
   "metadata": {},
   "outputs": [
    {
     "name": "stderr",
     "output_type": "stream",
     "text": [
      "C:\\Users\\ADMIN\\AppData\\Local\\Temp\\ipykernel_12416\\3046164660.py:4: DtypeWarning: Columns (6,7) have mixed types. Specify dtype option on import or set low_memory=False.\n",
      "  df = pd.read_csv(\"C:\\\\Users\\\\ADMIN\\\\Desktop\\\\air_paradise_chatbot\\\\data\\\\final\\\\dataset_cleaned_standard_with_predictions.csv\")\n"
     ]
    }
   ],
   "source": [
    "import pandas as pd\n",
    "\n",
    "# Charge ton dataset existant\n",
    "df = pd.read_csv(\"C:\\\\Users\\\\ADMIN\\\\Desktop\\\\air_paradise_chatbot\\\\data\\\\final\\\\dataset_cleaned_standard_with_predictions.csv\")\n"
   ]
  },
  {
   "cell_type": "markdown",
   "id": "e44cd811",
   "metadata": {},
   "source": [
    "Extraire les aéroports uniques depuis tes colonnes existantes"
   ]
  },
  {
   "cell_type": "code",
   "execution_count": 2,
   "id": "be9a601f",
   "metadata": {},
   "outputs": [
    {
     "name": "stdout",
     "output_type": "stream",
     "text": [
      "['ANC' 'SFO' 'SEA' 'LAX' 'FAI' 'LAS' 'SJU' 'PHX' 'PSE' 'BQN' 'ORD' 'GEG'\n",
      " 'HNL' 'ONT' 'HIB' 'ABR' 'MKE' 'PDX' 'BRO' 'VPS' 'BOI' 'BJI' 'BNA' 'SBN'\n",
      " 'EUG' 'BUF' 'PWM' 'JFK' 'CRP' 'PIA' 'FAT' 'AUS' 'BOS' 'ATL' 'JAX' 'MFR'\n",
      " 'SLC' 'IDA' 'CHS' 'DEN' 'SBA' 'IND' 'MCI' 'MCO' 'BDL' 'RIC' 'BFL' 'SAT'\n",
      " 'OMA' 'RDM' 'FLL' 'CID' 'SYR' 'ROC' 'TYR' 'LAN' 'GSO' 'SMF' 'OAK' 'PVD'\n",
      " 'ABQ' 'PIT' 'IAH' 'RSW' 'PBI' 'TPA' 'LGA' 'EWR' 'MSY' 'DCA' 'TYS' 'MHT'\n",
      " 'SAV' 'MEM' 'CLT' 'GRB' 'ABE' 'JAN' 'OAJ' 'FAR' 'ERI' 'ATW' 'LEX' 'CWA'\n",
      " 'RDU' 'CVG' 'PNS' 'BHM' 'RAP' 'TUS' 'EAU' 'DLH' 'FSD' 'INL' 'SPI' 'CLD'\n",
      " 'COD' 'CMH' 'PSC' 'CPR' 'ACV' 'DAL' 'PAH' 'DFW' 'MRY' 'ESC' 'ISN' 'PSP'\n",
      " 'CLE' 'CAE' 'DTW' 'BTV' 'OKC' 'MTJ' 'GCC' 'OGG' 'SJC' 'GUC' 'ORF' 'MOT'\n",
      " 'MLU' 'KOA' 'RNO' 'HOU' 'LAW' 'PIB' 'MGM' 'SBP' 'COS' 'LAR' 'SAN' 'DRO'\n",
      " 'BIS' 'ITO' 'BTR' 'HLN' 'MDW' 'SCE' 'LIH' 'TWF' 'PHL' 'BPT' 'GPT' 'STC'\n",
      " 'MSP' 'HPN' 'PLN' 'CIU' 'BWI' 'CAK' 'BLI' 'SHV' 'MSN' 'LIT' 'ALB' 'SNA'\n",
      " 'LNK' 'CMI' 'GTF' 'EKO' 'IAD' 'LGB' 'XNA' 'SUX' 'HYS' 'MFE' 'HSV' 'ISP'\n",
      " 'BUR' 'LFT' 'ASE' 'TVC' 'ALO' 'TLH' 'STL' 'MHK' 'IMT' 'ELP' 'JNU' 'MEI'\n",
      " 'DBQ' 'GNV' 'BRD' 'DIK' 'LBB' 'AVP' 'SGF' 'COU' 'BTM' 'TUL' 'ELM' 'RKS'\n",
      " 'PIH' 'MOB' 'SUN' 'LWS' 'GSP' 'VEL' 'SAF' 'YUM' 'FCA' 'GRR' 'AVL' 'HDN'\n",
      " 'ROA' 'CHA' 'EYW' 'CRW' 'MQT' 'CHO' 'DSM' 'GJT' 'MIA' 'FWA' 'ECP' 'DAY'\n",
      " 'EVV' 'MSO' 'AMA' 'MLI' 'MBS' 'SDF' 'GFK' 'GRK' 'STT' 'BIL' 'OTZ' 'KTN'\n",
      " 'ILM' 'PUB' 'RHI' 'CDC' 'HRL' 'BZN' 'SCC' 'FNT' 'LSE' 'MMH' 'ACT' 'FSM'\n",
      " 'AGS' 'CEC' 'ICT' 'AEX' 'DHN' 'LRD' 'WRG' 'PHF' 'CNY' 'BRW' 'GGG' 'AZO'\n",
      " 'CLL' 'ORH' 'FLG' 'SRQ' 'VLD' 'SIT' 'BQK' 'BMI' 'PSG' 'FAY' 'MKG' 'JAC'\n",
      " 'CSG' 'MYR' 'MAF' 'EWN' 'OME' 'MDT' 'CMX' 'JMS' 'SGU' 'RST' 'GTR' 'BET'\n",
      " 'TOL' 'TRI' 'APN' 'SMX' 'LCH' 'RDD' 'GCK' 'DVL' 'GRI' 'ABY' 'SWF' 'STX'\n",
      " 'JLN' 'ADK' 'TXK' 'SPS' 'ABI' 'YAK' 'SJT' 'CDV' 'OTH' 'ADQ' 'PPG' 'ROW'\n",
      " 'HOB' 'BGM' 'BGR' 'ITH' 'DAB' 'ACK' 'MVY' 'WYS' 'MLB' 'DLG' 'AKN' 'GST'\n",
      " 'HYA' '14747' '10299' '11630' '12889' '14254' '10141' '11982' '12173'\n",
      " '11884' '15919' '13851' '11111' '10693' '12191' '14783' '15016' '14487'\n",
      " '11953' '13891' '15376' '11778' '14842' '10155' '11775' '10721' '11049'\n",
      " '10990' '10631' '13158' '14108' '13198' '11447' '12206' '10747' '15411'\n",
      " '12891' '13256' '10792' '13127' '10781' '14960' '12278' '13485' '11977'\n",
      " '12892' '10257' '10423' '13796' '14100' '14107' '13232' '13296' '14122'\n",
      " '14570' '14683' '14893' '10136' '11603' '14689' '11471' '11315' '13264'\n",
      " '12478' '14814' '11308' '11066' '12896' '10397' '14057' '13487' '11292'\n",
      " '14307' '11721' '11140' '10185' '13277' '11203' '13342' '11433' '11697'\n",
      " '14771' '10599' '12156' '14952' '10620' '14869' '11423' '10408' '12915'\n",
      " '12264' '12339' '10140' '13871' '13931' '14027' '13244' '11267' '11540'\n",
      " '14576' '13476' '14489' '12945' '15607' '10529' '11986' '15304' '14492'\n",
      " '14635' '10785' '10561' '11637' '10874' '13495' '15370' '14524' '13367'\n",
      " '14685' '10146' '11973' '10980' '11618' '11278' '11042' '12197' '14098'\n",
      " '12323' '10577' '11150' '12266' '10135' '11995' '11617' '13795' '13029'\n",
      " '11003' '11146' '11577' '10713' '10431' '10994' '11057' '11259' '12953'\n",
      " '10279' '14321' '14843' '14828' '15096' '13204' '12992' '13930' '11823'\n",
      " '11980' '13290' '11193' '10685' '13377' '11109' '11076' '11122' '11865'\n",
      " '14252' '14543' '14905' '11587' '14457' '12335' '12343' '12003' '10157'\n",
      " '11638' '11298' '12884' '14633' '15048' '10849' '10821' '11996' '15380'\n",
      " '10268' '15295' '12389' '11525' '12451' '14262' '12888' '12217' '11481'\n",
      " '12391' '12448' '12951' '11648' '14696' '12758' '13830' '11612' '10434'\n",
      " '10469' '15412' '10731' '11413' '13433' '14679' '15624' '15249' '12982'\n",
      " '14730' '11867' '14698' '11537' '15389' '12402' '11337' '13076' '10627'\n",
      " '14006' '14193' '10728' '15401' '13422' '14831' '11067' '11274' '11921'\n",
      " '12519' '13486' '11013' '10779' '14150' '14794' '12511' '12177' '12523'\n",
      " '12007' '14908' '14588' '13061' '15041' '14109' '10868' '10800' '12954'\n",
      " '13303' '16218' '14113' '11624' '10739' '14574' '14711' '12129' '15070'\n",
      " '14520' '13184' '15323' '12280' '13241' '11898' '13230' '14674' '10551'\n",
      " '15024' '12819' '13459' '10581' '13970' '10372' '10918' '10732' '11641'\n",
      " '14709' '12255' '11905' '10333' '11695' '10208' '15841' '13577' '14986'\n",
      " '13344' '13933' '15991' '10754' '14256' '12094' '13873' '12441' '11097'\n",
      " '10154' '10926' '13964' '13541' '15027' '10170' '10165' 14794 11697 15380\n",
      " 13930 11067 11049 14685 11637 14828 11203 13244 10397 11921 12264 11540\n",
      " 12191 12889 10821 11042 11259 13232 14100 14107 14679 14893 13891 15304\n",
      " 13204 14842 11193 13230 13485 11778 11057 14524 11986 12173 14108 15389\n",
      " 14831 14576 11775 12280 11977 12954 12915 15401 15411 14747 11292 11618\n",
      " 12391 12892 10693 10721 10994 12953 13198 13296 13495 13796 14057 14683\n",
      " 14771 14869 14908 14122 10685 14960 11298 10990 10155 11996 12402 11982\n",
      " 13367 10136 12278 12478 13830 11905 15919 11278 12451 10423 15016 15376\n",
      " 15991 12945 12197 12891 13342 11481 10800 14492 14635 14843 12982 13303\n",
      " 15370 15096 14262 14570 13851 12448 13871 12266 11973 11066 10980 12992\n",
      " 10140 14027 10713 10208 14783 11146 13277 11433 12339 13970 10754 12758\n",
      " 10408 10599 13487 10868 15624 14193 12951 11140 10792 10781 10299 13422\n",
      " 11638 10561 10469 11641 10529 11884 11823 15295 11953 14730 11721 14689\n",
      " 15412 11267 10185 10627 10154 11423 14633 13931 13158 11003 10785 10279\n",
      " 12523 15249 12206 14574 11413 14321 13344 13184 14489 14307 11603 10431\n",
      " 14698 10157 12819 13476 13241 10551 12129 14520 14709 14222 11630 12519\n",
      " 14254 11111 14487 11898 10141 10631 11447 13256 13127 11471 11315 13264\n",
      " 14814 14952 12156 10747 14098 12323 10577 11150 11617 13029 11577 11980\n",
      " 13290 13377 11076 11122 14252 14905 11587 14457 12343 14543 12003 11865\n",
      " 15048 10257 10268 12389 11525 12335 12888 12217 11612 11648 10874 11109\n",
      " 10434 10731 13433 11867 11537 11337 13076 14006 10728 10146 11274 13486\n",
      " 11013 14150 12511 12177 11995 12007 12896 14588 10135 15070 13061 15041\n",
      " 14696 14109 11308 13795 15607 11695 16218 14113 11624 10739 14711 14674\n",
      " 15024 10581 10372 10732 10620 13933 15841 14986 13577 10918 10849 14256\n",
      " 12255 12441 11097 12884 10779 10926 13964 15323 15027 10170 10333 13459\n",
      " 12094 13873 13541 10165 13502 '13502' '14222' '10666']\n"
     ]
    }
   ],
   "source": [
    "# Extraire tous les codes uniques des aéroports\n",
    "unique_airports = pd.concat([df['ORIGIN_AIRPORT'], df['DESTINATION_AIRPORT']]).unique()\n",
    "\n",
    "# Vérifier les résultats\n",
    "print(unique_airports)\n"
   ]
  },
  {
   "cell_type": "markdown",
   "id": "79bd0447",
   "metadata": {},
   "source": [
    "Mapping initial sous forme de DataFrame"
   ]
  },
  {
   "cell_type": "code",
   "execution_count": 4,
   "id": "0d4809bc",
   "metadata": {},
   "outputs": [
    {
     "name": "stdout",
     "output_type": "stream",
     "text": [
      "   IATA_CODE AIRPORT CITY STATE\n",
      "0        ANC                   \n",
      "1        SFO                   \n",
      "2        SEA                   \n",
      "3        LAX                   \n",
      "4        FAI                   \n",
      "..       ...     ...  ...   ...\n",
      "95       CLD                   \n",
      "96       COD                   \n",
      "97       CMH                   \n",
      "98       PSC                   \n",
      "99       CPR                   \n",
      "\n",
      "[100 rows x 4 columns]\n"
     ]
    }
   ],
   "source": [
    "# Création initiale d’un DataFrame de mapping avec seulement les codes IATA\n",
    "mapping_df = pd.DataFrame(unique_airports, columns=[\"IATA_CODE\"])\n",
    "\n",
    "# Ajoute les colonnes vides à remplir ensuite (manuellement ou par une autre source)\n",
    "mapping_df[\"AIRPORT\"] = \"\"\n",
    "mapping_df[\"CITY\"] = \"\"\n",
    "mapping_df[\"STATE\"] = \"\"\n",
    "\n",
    "# Vérifie le DataFrame\n",
    "print(mapping_df.head(100))\n"
   ]
  },
  {
   "cell_type": "markdown",
   "id": "6f03ba6e",
   "metadata": {},
   "source": [
    " Sauvegarder ce DataFrame comme fichier CSV initial"
   ]
  },
  {
   "cell_type": "code",
   "execution_count": 6,
   "id": "d2619b4a",
   "metadata": {},
   "outputs": [
    {
     "name": "stdout",
     "output_type": "stream",
     "text": [
      "Fichier de mapping créé : C:\\Users\\ADMIN\\Desktop\\air_paradise_chatbot\\data\\mapping\\airport_mapping.csv\n",
      " Fichier initial de mapping créé dans data/mapping/airport_mapping.csv\n"
     ]
    }
   ],
   "source": [
    "# Sauvegarde en CSV\n",
    "from pathlib import Path\n",
    "output_path = Path(\"C:/Users/ADMIN/Desktop/air_paradise_chatbot/data/mapping/airport_mapping.csv\")\n",
    "mapping_df.to_csv(output_path, index=False)\n",
    "# Affiche le chemin du fichier créé\n",
    "print(f\"Fichier de mapping créé : {output_path}\")\n",
    "\n",
    "print(\" Fichier initial de mapping créé dans data/mapping/airport_mapping.csv\")\n"
   ]
  },
  {
   "cell_type": "markdown",
   "id": "d856a189",
   "metadata": {},
   "source": []
  },
  {
   "cell_type": "code",
   "execution_count": 10,
   "id": "6a07b270",
   "metadata": {},
   "outputs": [],
   "source": [
    "import pandas as pd\n",
    "\n",
    "# Ton fichier actuel\n",
    "mapping_df = pd.read_csv(\"C:\\\\Users\\\\ADMIN\\\\Desktop\\\\air_paradise_chatbot\\\\data\\\\mapping\\\\airport_mapping.csv\")"
   ]
  },
  {
   "cell_type": "code",
   "execution_count": 11,
   "id": "6154d3e9",
   "metadata": {},
   "outputs": [],
   "source": [
    "airports_full = pd.read_csv(\n",
    "    \"https://raw.githubusercontent.com/jpatokal/openflights/master/data/airports.dat\",\n",
    "    header=None,\n",
    "    names=[\"Airport_ID\", \"AIRPORT\", \"CITY\", \"COUNTRY\", \"IATA_CODE\", \"ICAO\", \n",
    "           \"LATITUDE\", \"LONGITUDE\", \"ALTITUDE\", \"TIMEZONE\", \"DST\", \"TZ\", \"TYPE\", \"SOURCE\"]\n",
    ")\n",
    "\n",
    "# Sélectionner uniquement les colonnes nécessaires\n",
    "airports_full = airports_full[[\"IATA_CODE\", \"AIRPORT\", \"CITY\", \"COUNTRY\"]]\n",
    "# Supprimer les doublons\n",
    "airports_full = airports_full.drop_duplicates(subset=[\"IATA_CODE\"]) "
   ]
  },
  {
   "cell_type": "code",
   "execution_count": 12,
   "id": "abed6761",
   "metadata": {},
   "outputs": [
    {
     "name": "stdout",
     "output_type": "stream",
     "text": [
      "  IATA_CODE                                      AIRPORT           CITY  \\\n",
      "0       ANC  Ted Stevens Anchorage International Airport      Anchorage   \n",
      "1       SFO          San Francisco International Airport  San Francisco   \n",
      "2       SEA         Seattle Tacoma International Airport        Seattle   \n",
      "3       LAX            Los Angeles International Airport    Los Angeles   \n",
      "4       FAI              Fairbanks International Airport      Fairbanks   \n",
      "\n",
      "         COUNTRY  \n",
      "0  United States  \n",
      "1  United States  \n",
      "2  United States  \n",
      "3  United States  \n",
      "4  United States  \n"
     ]
    }
   ],
   "source": [
    "# Fusionner (merge) pour remplir automatiquement tes colonnes\n",
    "mapping_df = mapping_df[[\"IATA_CODE\"]].merge(airports_full, on=\"IATA_CODE\", how=\"left\")\n",
    "\n",
    "# Afficher pour vérifier\n",
    "print(mapping_df.head())\n",
    "# Sauvegarde le fichier mis à jour\n",
    "mapping_df.to_csv(\"C:\\\\Users\\\\ADMIN\\\\Desktop\\\\air_paradise_chatbot\\\\data\\\\mapping\\\\airport_mapping.csv\", index=False)"
   ]
  },
  {
   "cell_type": "markdown",
   "id": "c97018d2",
   "metadata": {},
   "source": [
    "Identifier et isoler clairement ces cas"
   ]
  },
  {
   "cell_type": "code",
   "execution_count": 13,
   "id": "1450b31f",
   "metadata": {},
   "outputs": [
    {
     "name": "stdout",
     "output_type": "stream",
     "text": [
      "    IATA_CODE AIRPORT CITY COUNTRY\n",
      "313     14747     NaN  NaN     NaN\n",
      "314     10299     NaN  NaN     NaN\n",
      "315     11630     NaN  NaN     NaN\n",
      "316     12889     NaN  NaN     NaN\n",
      "317     14254     NaN  NaN     NaN\n",
      "..        ...     ...  ...     ...\n",
      "901     10165     NaN  NaN     NaN\n",
      "902     13502     NaN  NaN     NaN\n",
      "903     13502     NaN  NaN     NaN\n",
      "904     14222     NaN  NaN     NaN\n",
      "905     10666     NaN  NaN     NaN\n",
      "\n",
      "[593 rows x 4 columns]\n"
     ]
    }
   ],
   "source": [
    "# Identifier les lignes sans correspondance\n",
    "missing_airports = mapping_df[mapping_df[\"AIRPORT\"].isna()]\n",
    "print(missing_airports)\n"
   ]
  },
  {
   "cell_type": "markdown",
   "id": "a9bfa6ed",
   "metadata": {},
   "source": [
    "Remplacer par \"Unknown\""
   ]
  },
  {
   "cell_type": "code",
   "execution_count": null,
   "id": "66a6f8c8",
   "metadata": {},
   "outputs": [
    {
     "name": "stdout",
     "output_type": "stream",
     "text": [
      "Fichier de mapping mis à jour : C:\\Users\\ADMIN\\Desktop\\air_paradise_chatbot\\data\\mapping\\airport_mapping.csv\n"
     ]
    }
   ],
   "source": [
    "# Remplacer NaN par \"Unknown\"\n",
    "mapping_df.fillna(\"Unknown\", inplace=True)\n",
    "\n",
    "from pathlib import Path\n",
    "\n",
    "output_path = Path(\"C:\\\\Users\\\\ADMIN\\\\Desktop\\\\air_paradise_chatbot\\\\data\\\\mapping\\\\airport_mapping.csv\")\n",
    "mapping_df.to_csv(output_path, index=False)\n",
    "\n",
    "# Affiche le chemin du fichier créé\n",
    "print(f\"Fichier de mapping mis à jour : {output_path}\")"
   ]
  }
 ],
 "metadata": {
  "kernelspec": {
   "display_name": ".venv",
   "language": "python",
   "name": "python3"
  },
  "language_info": {
   "codemirror_mode": {
    "name": "ipython",
    "version": 3
   },
   "file_extension": ".py",
   "mimetype": "text/x-python",
   "name": "python",
   "nbconvert_exporter": "python",
   "pygments_lexer": "ipython3",
   "version": "3.12.10"
  }
 },
 "nbformat": 4,
 "nbformat_minor": 5
}
