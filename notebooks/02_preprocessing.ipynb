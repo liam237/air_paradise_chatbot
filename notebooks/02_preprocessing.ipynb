{
 "cells": [
  {
   "cell_type": "markdown",
   "metadata": {},
   "source": [
    "# Nettoyage et feature"
   ]
  },
  {
   "cell_type": "code",
   "execution_count": 1,
   "metadata": {},
   "outputs": [
    {
     "name": "stderr",
     "output_type": "stream",
     "text": [
      "C:\\Users\\HP\\AppData\\Local\\Temp\\ipykernel_23248\\3272984744.py:4: DtypeWarning: Columns (7,8) have mixed types. Specify dtype option on import or set low_memory=False.\n",
      "  df_chat = pd.read_csv(\"../data/raw/flights.csv\")\n"
     ]
    },
    {
     "data": {
      "text/html": [
       "<div>\n",
       "<style scoped>\n",
       "    .dataframe tbody tr th:only-of-type {\n",
       "        vertical-align: middle;\n",
       "    }\n",
       "\n",
       "    .dataframe tbody tr th {\n",
       "        vertical-align: top;\n",
       "    }\n",
       "\n",
       "    .dataframe thead th {\n",
       "        text-align: right;\n",
       "    }\n",
       "</style>\n",
       "<table border=\"1\" class=\"dataframe\">\n",
       "  <thead>\n",
       "    <tr style=\"text-align: right;\">\n",
       "      <th></th>\n",
       "      <th>YEAR</th>\n",
       "      <th>MONTH</th>\n",
       "      <th>DAY</th>\n",
       "      <th>DAY_OF_WEEK</th>\n",
       "      <th>AIRLINE</th>\n",
       "      <th>FLIGHT_NUMBER</th>\n",
       "      <th>TAIL_NUMBER</th>\n",
       "      <th>ORIGIN_AIRPORT</th>\n",
       "      <th>DESTINATION_AIRPORT</th>\n",
       "      <th>SCHEDULED_DEPARTURE</th>\n",
       "      <th>...</th>\n",
       "      <th>ARRIVAL_TIME</th>\n",
       "      <th>ARRIVAL_DELAY</th>\n",
       "      <th>DIVERTED</th>\n",
       "      <th>CANCELLED</th>\n",
       "      <th>CANCELLATION_REASON</th>\n",
       "      <th>AIR_SYSTEM_DELAY</th>\n",
       "      <th>SECURITY_DELAY</th>\n",
       "      <th>AIRLINE_DELAY</th>\n",
       "      <th>LATE_AIRCRAFT_DELAY</th>\n",
       "      <th>WEATHER_DELAY</th>\n",
       "    </tr>\n",
       "  </thead>\n",
       "  <tbody>\n",
       "    <tr>\n",
       "      <th>0</th>\n",
       "      <td>2015</td>\n",
       "      <td>1</td>\n",
       "      <td>1</td>\n",
       "      <td>4</td>\n",
       "      <td>AS</td>\n",
       "      <td>98</td>\n",
       "      <td>N407AS</td>\n",
       "      <td>ANC</td>\n",
       "      <td>SEA</td>\n",
       "      <td>5</td>\n",
       "      <td>...</td>\n",
       "      <td>408.0</td>\n",
       "      <td>-22.0</td>\n",
       "      <td>0</td>\n",
       "      <td>0</td>\n",
       "      <td>NaN</td>\n",
       "      <td>NaN</td>\n",
       "      <td>NaN</td>\n",
       "      <td>NaN</td>\n",
       "      <td>NaN</td>\n",
       "      <td>NaN</td>\n",
       "    </tr>\n",
       "    <tr>\n",
       "      <th>1</th>\n",
       "      <td>2015</td>\n",
       "      <td>1</td>\n",
       "      <td>1</td>\n",
       "      <td>4</td>\n",
       "      <td>AA</td>\n",
       "      <td>2336</td>\n",
       "      <td>N3KUAA</td>\n",
       "      <td>LAX</td>\n",
       "      <td>PBI</td>\n",
       "      <td>10</td>\n",
       "      <td>...</td>\n",
       "      <td>741.0</td>\n",
       "      <td>-9.0</td>\n",
       "      <td>0</td>\n",
       "      <td>0</td>\n",
       "      <td>NaN</td>\n",
       "      <td>NaN</td>\n",
       "      <td>NaN</td>\n",
       "      <td>NaN</td>\n",
       "      <td>NaN</td>\n",
       "      <td>NaN</td>\n",
       "    </tr>\n",
       "    <tr>\n",
       "      <th>2</th>\n",
       "      <td>2015</td>\n",
       "      <td>1</td>\n",
       "      <td>1</td>\n",
       "      <td>4</td>\n",
       "      <td>US</td>\n",
       "      <td>840</td>\n",
       "      <td>N171US</td>\n",
       "      <td>SFO</td>\n",
       "      <td>CLT</td>\n",
       "      <td>20</td>\n",
       "      <td>...</td>\n",
       "      <td>811.0</td>\n",
       "      <td>5.0</td>\n",
       "      <td>0</td>\n",
       "      <td>0</td>\n",
       "      <td>NaN</td>\n",
       "      <td>NaN</td>\n",
       "      <td>NaN</td>\n",
       "      <td>NaN</td>\n",
       "      <td>NaN</td>\n",
       "      <td>NaN</td>\n",
       "    </tr>\n",
       "    <tr>\n",
       "      <th>3</th>\n",
       "      <td>2015</td>\n",
       "      <td>1</td>\n",
       "      <td>1</td>\n",
       "      <td>4</td>\n",
       "      <td>AA</td>\n",
       "      <td>258</td>\n",
       "      <td>N3HYAA</td>\n",
       "      <td>LAX</td>\n",
       "      <td>MIA</td>\n",
       "      <td>20</td>\n",
       "      <td>...</td>\n",
       "      <td>756.0</td>\n",
       "      <td>-9.0</td>\n",
       "      <td>0</td>\n",
       "      <td>0</td>\n",
       "      <td>NaN</td>\n",
       "      <td>NaN</td>\n",
       "      <td>NaN</td>\n",
       "      <td>NaN</td>\n",
       "      <td>NaN</td>\n",
       "      <td>NaN</td>\n",
       "    </tr>\n",
       "    <tr>\n",
       "      <th>4</th>\n",
       "      <td>2015</td>\n",
       "      <td>1</td>\n",
       "      <td>1</td>\n",
       "      <td>4</td>\n",
       "      <td>AS</td>\n",
       "      <td>135</td>\n",
       "      <td>N527AS</td>\n",
       "      <td>SEA</td>\n",
       "      <td>ANC</td>\n",
       "      <td>25</td>\n",
       "      <td>...</td>\n",
       "      <td>259.0</td>\n",
       "      <td>-21.0</td>\n",
       "      <td>0</td>\n",
       "      <td>0</td>\n",
       "      <td>NaN</td>\n",
       "      <td>NaN</td>\n",
       "      <td>NaN</td>\n",
       "      <td>NaN</td>\n",
       "      <td>NaN</td>\n",
       "      <td>NaN</td>\n",
       "    </tr>\n",
       "    <tr>\n",
       "      <th>5</th>\n",
       "      <td>2015</td>\n",
       "      <td>1</td>\n",
       "      <td>1</td>\n",
       "      <td>4</td>\n",
       "      <td>DL</td>\n",
       "      <td>806</td>\n",
       "      <td>N3730B</td>\n",
       "      <td>SFO</td>\n",
       "      <td>MSP</td>\n",
       "      <td>25</td>\n",
       "      <td>...</td>\n",
       "      <td>610.0</td>\n",
       "      <td>8.0</td>\n",
       "      <td>0</td>\n",
       "      <td>0</td>\n",
       "      <td>NaN</td>\n",
       "      <td>NaN</td>\n",
       "      <td>NaN</td>\n",
       "      <td>NaN</td>\n",
       "      <td>NaN</td>\n",
       "      <td>NaN</td>\n",
       "    </tr>\n",
       "    <tr>\n",
       "      <th>6</th>\n",
       "      <td>2015</td>\n",
       "      <td>1</td>\n",
       "      <td>1</td>\n",
       "      <td>4</td>\n",
       "      <td>NK</td>\n",
       "      <td>612</td>\n",
       "      <td>N635NK</td>\n",
       "      <td>LAS</td>\n",
       "      <td>MSP</td>\n",
       "      <td>25</td>\n",
       "      <td>...</td>\n",
       "      <td>509.0</td>\n",
       "      <td>-17.0</td>\n",
       "      <td>0</td>\n",
       "      <td>0</td>\n",
       "      <td>NaN</td>\n",
       "      <td>NaN</td>\n",
       "      <td>NaN</td>\n",
       "      <td>NaN</td>\n",
       "      <td>NaN</td>\n",
       "      <td>NaN</td>\n",
       "    </tr>\n",
       "    <tr>\n",
       "      <th>7</th>\n",
       "      <td>2015</td>\n",
       "      <td>1</td>\n",
       "      <td>1</td>\n",
       "      <td>4</td>\n",
       "      <td>US</td>\n",
       "      <td>2013</td>\n",
       "      <td>N584UW</td>\n",
       "      <td>LAX</td>\n",
       "      <td>CLT</td>\n",
       "      <td>30</td>\n",
       "      <td>...</td>\n",
       "      <td>753.0</td>\n",
       "      <td>-10.0</td>\n",
       "      <td>0</td>\n",
       "      <td>0</td>\n",
       "      <td>NaN</td>\n",
       "      <td>NaN</td>\n",
       "      <td>NaN</td>\n",
       "      <td>NaN</td>\n",
       "      <td>NaN</td>\n",
       "      <td>NaN</td>\n",
       "    </tr>\n",
       "    <tr>\n",
       "      <th>8</th>\n",
       "      <td>2015</td>\n",
       "      <td>1</td>\n",
       "      <td>1</td>\n",
       "      <td>4</td>\n",
       "      <td>AA</td>\n",
       "      <td>1112</td>\n",
       "      <td>N3LAAA</td>\n",
       "      <td>SFO</td>\n",
       "      <td>DFW</td>\n",
       "      <td>30</td>\n",
       "      <td>...</td>\n",
       "      <td>532.0</td>\n",
       "      <td>-13.0</td>\n",
       "      <td>0</td>\n",
       "      <td>0</td>\n",
       "      <td>NaN</td>\n",
       "      <td>NaN</td>\n",
       "      <td>NaN</td>\n",
       "      <td>NaN</td>\n",
       "      <td>NaN</td>\n",
       "      <td>NaN</td>\n",
       "    </tr>\n",
       "    <tr>\n",
       "      <th>9</th>\n",
       "      <td>2015</td>\n",
       "      <td>1</td>\n",
       "      <td>1</td>\n",
       "      <td>4</td>\n",
       "      <td>DL</td>\n",
       "      <td>1173</td>\n",
       "      <td>N826DN</td>\n",
       "      <td>LAS</td>\n",
       "      <td>ATL</td>\n",
       "      <td>30</td>\n",
       "      <td>...</td>\n",
       "      <td>656.0</td>\n",
       "      <td>-15.0</td>\n",
       "      <td>0</td>\n",
       "      <td>0</td>\n",
       "      <td>NaN</td>\n",
       "      <td>NaN</td>\n",
       "      <td>NaN</td>\n",
       "      <td>NaN</td>\n",
       "      <td>NaN</td>\n",
       "      <td>NaN</td>\n",
       "    </tr>\n",
       "  </tbody>\n",
       "</table>\n",
       "<p>10 rows × 31 columns</p>\n",
       "</div>"
      ],
      "text/plain": [
       "   YEAR  MONTH  DAY  DAY_OF_WEEK AIRLINE  FLIGHT_NUMBER TAIL_NUMBER  \\\n",
       "0  2015      1    1            4      AS             98      N407AS   \n",
       "1  2015      1    1            4      AA           2336      N3KUAA   \n",
       "2  2015      1    1            4      US            840      N171US   \n",
       "3  2015      1    1            4      AA            258      N3HYAA   \n",
       "4  2015      1    1            4      AS            135      N527AS   \n",
       "5  2015      1    1            4      DL            806      N3730B   \n",
       "6  2015      1    1            4      NK            612      N635NK   \n",
       "7  2015      1    1            4      US           2013      N584UW   \n",
       "8  2015      1    1            4      AA           1112      N3LAAA   \n",
       "9  2015      1    1            4      DL           1173      N826DN   \n",
       "\n",
       "  ORIGIN_AIRPORT DESTINATION_AIRPORT  SCHEDULED_DEPARTURE  ...  ARRIVAL_TIME  \\\n",
       "0            ANC                 SEA                    5  ...         408.0   \n",
       "1            LAX                 PBI                   10  ...         741.0   \n",
       "2            SFO                 CLT                   20  ...         811.0   \n",
       "3            LAX                 MIA                   20  ...         756.0   \n",
       "4            SEA                 ANC                   25  ...         259.0   \n",
       "5            SFO                 MSP                   25  ...         610.0   \n",
       "6            LAS                 MSP                   25  ...         509.0   \n",
       "7            LAX                 CLT                   30  ...         753.0   \n",
       "8            SFO                 DFW                   30  ...         532.0   \n",
       "9            LAS                 ATL                   30  ...         656.0   \n",
       "\n",
       "   ARRIVAL_DELAY  DIVERTED  CANCELLED  CANCELLATION_REASON  AIR_SYSTEM_DELAY  \\\n",
       "0          -22.0         0          0                  NaN               NaN   \n",
       "1           -9.0         0          0                  NaN               NaN   \n",
       "2            5.0         0          0                  NaN               NaN   \n",
       "3           -9.0         0          0                  NaN               NaN   \n",
       "4          -21.0         0          0                  NaN               NaN   \n",
       "5            8.0         0          0                  NaN               NaN   \n",
       "6          -17.0         0          0                  NaN               NaN   \n",
       "7          -10.0         0          0                  NaN               NaN   \n",
       "8          -13.0         0          0                  NaN               NaN   \n",
       "9          -15.0         0          0                  NaN               NaN   \n",
       "\n",
       "   SECURITY_DELAY  AIRLINE_DELAY  LATE_AIRCRAFT_DELAY  WEATHER_DELAY  \n",
       "0             NaN            NaN                  NaN            NaN  \n",
       "1             NaN            NaN                  NaN            NaN  \n",
       "2             NaN            NaN                  NaN            NaN  \n",
       "3             NaN            NaN                  NaN            NaN  \n",
       "4             NaN            NaN                  NaN            NaN  \n",
       "5             NaN            NaN                  NaN            NaN  \n",
       "6             NaN            NaN                  NaN            NaN  \n",
       "7             NaN            NaN                  NaN            NaN  \n",
       "8             NaN            NaN                  NaN            NaN  \n",
       "9             NaN            NaN                  NaN            NaN  \n",
       "\n",
       "[10 rows x 31 columns]"
      ]
     },
     "execution_count": 1,
     "metadata": {},
     "output_type": "execute_result"
    }
   ],
   "source": [
    "import pandas as pd \n",
    "import matplotlib.pyplot as plt\n",
    "\n",
    "df_chat = pd.read_csv(\"../data/raw/flights.csv\")\n",
    "\n",
    "df_chat.head(10)"
   ]
  },
  {
   "cell_type": "markdown",
   "metadata": {},
   "source": [
    "2 . Pourcentage de valeurs manquantes"
   ]
  },
  {
   "cell_type": "code",
   "execution_count": 3,
   "metadata": {},
   "outputs": [
    {
     "name": "stdout",
     "output_type": "stream",
     "text": [
      "CANCELLATION_REASON    98.455357\n",
      "SECURITY_DELAY         81.724960\n",
      "AIR_SYSTEM_DELAY       81.724960\n",
      "LATE_AIRCRAFT_DELAY    81.724960\n",
      "WEATHER_DELAY          81.724960\n",
      "AIRLINE_DELAY          81.724960\n",
      "ARRIVAL_DELAY           1.805629\n",
      "ELAPSED_TIME            1.805629\n",
      "AIR_TIME                1.805629\n",
      "TAXI_IN                 1.589822\n",
      "WHEELS_ON               1.589822\n",
      "ARRIVAL_TIME            1.589822\n",
      "TAXI_OUT                1.530259\n",
      "WHEELS_OFF              1.530259\n",
      "DEPARTURE_DELAY         1.480526\n",
      "DEPARTURE_TIME          1.480526\n",
      "TAIL_NUMBER             0.252978\n",
      "SCHEDULED_TIME          0.000103\n",
      "dtype: float64\n"
     ]
    }
   ],
   "source": [
    "missing_percent = df_chat.isnull().sum() * 100 / len(df_chat)\n",
    "\n",
    "# Filtrer les colonnes avec au moins une valeur manquante\n",
    "missing_percent = missing_percent[missing_percent > 0].sort_values(ascending=False)\n",
    "\n",
    "# Afficher les résultats\n",
    "print(missing_percent)"
   ]
  },
  {
   "cell_type": "markdown",
   "metadata": {},
   "source": [
    "3. Suppression des colonnes avec un % de valeurs manquantes >= 80"
   ]
  },
  {
   "cell_type": "code",
   "execution_count": 5,
   "metadata": {},
   "outputs": [
    {
     "name": "stdout",
     "output_type": "stream",
     "text": [
      "ELAPSED_TIME       1.805629\n",
      "ARRIVAL_DELAY      1.805629\n",
      "AIR_TIME           1.805629\n",
      "WHEELS_ON          1.589822\n",
      "TAXI_IN            1.589822\n",
      "ARRIVAL_TIME       1.589822\n",
      "WHEELS_OFF         1.530259\n",
      "TAXI_OUT           1.530259\n",
      "DEPARTURE_TIME     1.480526\n",
      "DEPARTURE_DELAY    1.480526\n",
      "TAIL_NUMBER        0.252978\n",
      "SCHEDULED_TIME     0.000103\n",
      "dtype: float64\n"
     ]
    }
   ],
   "source": [
    "# Supprimer les colonnes avec plus de 80% de valeurs manquantes\n",
    "threshold = 0.8  # Seuil de 80%\n",
    "df_chat = df_chat.loc[:, df_chat.isnull().mean() < threshold]\n",
    "\n",
    "# verifs\n",
    "missing_percent = df_chat.isnull().sum() * 100 / len(df_chat)\n",
    "\n",
    "# Filtrer les colonnes avec au moins une valeur manquante\n",
    "missing_percent = missing_percent[missing_percent > 0].sort_values(ascending=False)\n",
    "\n",
    "# Afficher les résultats\n",
    "print(missing_percent)"
   ]
  },
  {
   "cell_type": "markdown",
   "metadata": {},
   "source": [
    "4. Imputation de Valeurs"
   ]
  },
  {
   "cell_type": "code",
   "execution_count": 6,
   "metadata": {},
   "outputs": [
    {
     "name": "stderr",
     "output_type": "stream",
     "text": [
      "C:\\Users\\HP\\AppData\\Local\\Temp\\ipykernel_23248\\4195161168.py:1: FutureWarning: A value is trying to be set on a copy of a DataFrame or Series through chained assignment using an inplace method.\n",
      "The behavior will change in pandas 3.0. This inplace method will never work because the intermediate object on which we are setting values always behaves as a copy.\n",
      "\n",
      "For example, when doing 'df[col].method(value, inplace=True)', try using 'df.method({col: value}, inplace=True)' or df[col] = df[col].method(value) instead, to perform the operation inplace on the original object.\n",
      "\n",
      "\n",
      "  df_chat[\"DEPARTURE_TIME\"].fillna(df_chat[\"DEPARTURE_DELAY\"].median(), inplace=True)\n",
      "C:\\Users\\HP\\AppData\\Local\\Temp\\ipykernel_23248\\4195161168.py:2: FutureWarning: A value is trying to be set on a copy of a DataFrame or Series through chained assignment using an inplace method.\n",
      "The behavior will change in pandas 3.0. This inplace method will never work because the intermediate object on which we are setting values always behaves as a copy.\n",
      "\n",
      "For example, when doing 'df[col].method(value, inplace=True)', try using 'df.method({col: value}, inplace=True)' or df[col] = df[col].method(value) instead, to perform the operation inplace on the original object.\n",
      "\n",
      "\n",
      "  df_chat[\"ARRIVAL_DELAY\"].fillna(df_chat[\"ARRIVAL_DELAY\"].median(), inplace=True)\n",
      "C:\\Users\\HP\\AppData\\Local\\Temp\\ipykernel_23248\\4195161168.py:5: FutureWarning: A value is trying to be set on a copy of a DataFrame or Series through chained assignment using an inplace method.\n",
      "The behavior will change in pandas 3.0. This inplace method will never work because the intermediate object on which we are setting values always behaves as a copy.\n",
      "\n",
      "For example, when doing 'df[col].method(value, inplace=True)', try using 'df.method({col: value}, inplace=True)' or df[col] = df[col].method(value) instead, to perform the operation inplace on the original object.\n",
      "\n",
      "\n",
      "  df_chat[\"DEPARTURE_DELAY\"].fillna(df_chat[\"DEPARTURE_DELAY\"].median(), inplace=True)\n",
      "C:\\Users\\HP\\AppData\\Local\\Temp\\ipykernel_23248\\4195161168.py:7: FutureWarning: A value is trying to be set on a copy of a DataFrame or Series through chained assignment using an inplace method.\n",
      "The behavior will change in pandas 3.0. This inplace method will never work because the intermediate object on which we are setting values always behaves as a copy.\n",
      "\n",
      "For example, when doing 'df[col].method(value, inplace=True)', try using 'df.method({col: value}, inplace=True)' or df[col] = df[col].method(value) instead, to perform the operation inplace on the original object.\n",
      "\n",
      "\n",
      "  df_chat[\"TAXI_OUT\"].fillna(df_chat[\"TAXI_OUT\"].median(), inplace=True)\n",
      "C:\\Users\\HP\\AppData\\Local\\Temp\\ipykernel_23248\\4195161168.py:8: FutureWarning: A value is trying to be set on a copy of a DataFrame or Series through chained assignment using an inplace method.\n",
      "The behavior will change in pandas 3.0. This inplace method will never work because the intermediate object on which we are setting values always behaves as a copy.\n",
      "\n",
      "For example, when doing 'df[col].method(value, inplace=True)', try using 'df.method({col: value}, inplace=True)' or df[col] = df[col].method(value) instead, to perform the operation inplace on the original object.\n",
      "\n",
      "\n",
      "  df_chat[\"WHEELS_OFF\"].fillna(df_chat[\"WHEELS_OFF\"].median(), inplace=True)\n",
      "C:\\Users\\HP\\AppData\\Local\\Temp\\ipykernel_23248\\4195161168.py:9: FutureWarning: A value is trying to be set on a copy of a DataFrame or Series through chained assignment using an inplace method.\n",
      "The behavior will change in pandas 3.0. This inplace method will never work because the intermediate object on which we are setting values always behaves as a copy.\n",
      "\n",
      "For example, when doing 'df[col].method(value, inplace=True)', try using 'df.method({col: value}, inplace=True)' or df[col] = df[col].method(value) instead, to perform the operation inplace on the original object.\n",
      "\n",
      "\n",
      "  df_chat[\"SCHEDULED_TIME\"].fillna(df_chat[\"SCHEDULED_TIME\"].median(), inplace=True)\n",
      "C:\\Users\\HP\\AppData\\Local\\Temp\\ipykernel_23248\\4195161168.py:10: FutureWarning: A value is trying to be set on a copy of a DataFrame or Series through chained assignment using an inplace method.\n",
      "The behavior will change in pandas 3.0. This inplace method will never work because the intermediate object on which we are setting values always behaves as a copy.\n",
      "\n",
      "For example, when doing 'df[col].method(value, inplace=True)', try using 'df.method({col: value}, inplace=True)' or df[col] = df[col].method(value) instead, to perform the operation inplace on the original object.\n",
      "\n",
      "\n",
      "  df_chat[\"ELAPSED_TIME\"].fillna(df_chat[\"ELAPSED_TIME\"].median(), inplace=True)\n",
      "C:\\Users\\HP\\AppData\\Local\\Temp\\ipykernel_23248\\4195161168.py:12: FutureWarning: A value is trying to be set on a copy of a DataFrame or Series through chained assignment using an inplace method.\n",
      "The behavior will change in pandas 3.0. This inplace method will never work because the intermediate object on which we are setting values always behaves as a copy.\n",
      "\n",
      "For example, when doing 'df[col].method(value, inplace=True)', try using 'df.method({col: value}, inplace=True)' or df[col] = df[col].method(value) instead, to perform the operation inplace on the original object.\n",
      "\n",
      "\n",
      "  df_chat[\"AIR_TIME\"].fillna(df_chat[\"AIR_TIME\"].median(), inplace=True)\n",
      "C:\\Users\\HP\\AppData\\Local\\Temp\\ipykernel_23248\\4195161168.py:13: FutureWarning: A value is trying to be set on a copy of a DataFrame or Series through chained assignment using an inplace method.\n",
      "The behavior will change in pandas 3.0. This inplace method will never work because the intermediate object on which we are setting values always behaves as a copy.\n",
      "\n",
      "For example, when doing 'df[col].method(value, inplace=True)', try using 'df.method({col: value}, inplace=True)' or df[col] = df[col].method(value) instead, to perform the operation inplace on the original object.\n",
      "\n",
      "\n",
      "  df_chat[\"WHEELS_ON\"].fillna(df_chat[\"WHEELS_ON\"].median(), inplace=True)\n",
      "C:\\Users\\HP\\AppData\\Local\\Temp\\ipykernel_23248\\4195161168.py:14: FutureWarning: A value is trying to be set on a copy of a DataFrame or Series through chained assignment using an inplace method.\n",
      "The behavior will change in pandas 3.0. This inplace method will never work because the intermediate object on which we are setting values always behaves as a copy.\n",
      "\n",
      "For example, when doing 'df[col].method(value, inplace=True)', try using 'df.method({col: value}, inplace=True)' or df[col] = df[col].method(value) instead, to perform the operation inplace on the original object.\n",
      "\n",
      "\n",
      "  df_chat[\"TAXI_IN\"].fillna(df_chat[\"TAXI_IN\"].median(), inplace=True)\n",
      "C:\\Users\\HP\\AppData\\Local\\Temp\\ipykernel_23248\\4195161168.py:15: FutureWarning: A value is trying to be set on a copy of a DataFrame or Series through chained assignment using an inplace method.\n",
      "The behavior will change in pandas 3.0. This inplace method will never work because the intermediate object on which we are setting values always behaves as a copy.\n",
      "\n",
      "For example, when doing 'df[col].method(value, inplace=True)', try using 'df.method({col: value}, inplace=True)' or df[col] = df[col].method(value) instead, to perform the operation inplace on the original object.\n",
      "\n",
      "\n",
      "  df_chat[\"ARRIVAL_TIME\"].fillna(df_chat[\"ARRIVAL_TIME\"].median(), inplace=True)\n",
      "C:\\Users\\HP\\AppData\\Local\\Temp\\ipykernel_23248\\4195161168.py:16: FutureWarning: A value is trying to be set on a copy of a DataFrame or Series through chained assignment using an inplace method.\n",
      "The behavior will change in pandas 3.0. This inplace method will never work because the intermediate object on which we are setting values always behaves as a copy.\n",
      "\n",
      "For example, when doing 'df[col].method(value, inplace=True)', try using 'df.method({col: value}, inplace=True)' or df[col] = df[col].method(value) instead, to perform the operation inplace on the original object.\n",
      "\n",
      "\n",
      "  df_chat[\"ARRIVAL_DELAY\"].fillna(df_chat[\"ARRIVAL_DELAY\"].median(), inplace=True)\n"
     ]
    }
   ],
   "source": [
    "df_chat[\"DEPARTURE_TIME\"].fillna(df_chat[\"DEPARTURE_DELAY\"].median(), inplace=True)  \n",
    "df_chat[\"ARRIVAL_DELAY\"].fillna(df_chat[\"ARRIVAL_DELAY\"].median(), inplace=True)  \n",
    "\n",
    " \n",
    "df_chat[\"DEPARTURE_DELAY\"].fillna(df_chat[\"DEPARTURE_DELAY\"].median(), inplace=True)  \n",
    "\n",
    "df_chat[\"TAXI_OUT\"].fillna(df_chat[\"TAXI_OUT\"].median(), inplace=True)  \n",
    "df_chat[\"WHEELS_OFF\"].fillna(df_chat[\"WHEELS_OFF\"].median(), inplace=True) \n",
    "df_chat[\"SCHEDULED_TIME\"].fillna(df_chat[\"SCHEDULED_TIME\"].median(), inplace=True)\n",
    "df_chat[\"ELAPSED_TIME\"].fillna(df_chat[\"ELAPSED_TIME\"].median(), inplace=True)\n",
    "\n",
    "df_chat[\"AIR_TIME\"].fillna(df_chat[\"AIR_TIME\"].median(), inplace=True)  \n",
    "df_chat[\"WHEELS_ON\"].fillna(df_chat[\"WHEELS_ON\"].median(), inplace=True)  \n",
    "df_chat[\"TAXI_IN\"].fillna(df_chat[\"TAXI_IN\"].median(), inplace=True)  \n",
    "df_chat[\"ARRIVAL_TIME\"].fillna(df_chat[\"ARRIVAL_TIME\"].median(), inplace=True) \n",
    "df_chat[\"ARRIVAL_DELAY\"].fillna(df_chat[\"ARRIVAL_DELAY\"].median(), inplace=True)\n",
    "\n",
    "\n",
    "# J'ai choisi d'imputer par le mode de la colonne\n",
    "mode_value = df_chat[\"TAIL_NUMBER\"].mode()[0]  # Trouve la valeur la plus fréquente\n",
    "df_chat[\"TAIL_NUMBER\"] = df_chat[\"TAIL_NUMBER\"].fillna(mode_value)\n"
   ]
  },
  {
   "cell_type": "code",
   "execution_count": 7,
   "metadata": {},
   "outputs": [
    {
     "data": {
      "text/plain": [
       "YEAR                   0\n",
       "MONTH                  0\n",
       "DAY                    0\n",
       "DAY_OF_WEEK            0\n",
       "AIRLINE                0\n",
       "FLIGHT_NUMBER          0\n",
       "TAIL_NUMBER            0\n",
       "ORIGIN_AIRPORT         0\n",
       "DESTINATION_AIRPORT    0\n",
       "SCHEDULED_DEPARTURE    0\n",
       "DEPARTURE_TIME         0\n",
       "DEPARTURE_DELAY        0\n",
       "TAXI_OUT               0\n",
       "WHEELS_OFF             0\n",
       "SCHEDULED_TIME         0\n",
       "ELAPSED_TIME           0\n",
       "AIR_TIME               0\n",
       "DISTANCE               0\n",
       "WHEELS_ON              0\n",
       "TAXI_IN                0\n",
       "SCHEDULED_ARRIVAL      0\n",
       "ARRIVAL_TIME           0\n",
       "ARRIVAL_DELAY          0\n",
       "DIVERTED               0\n",
       "CANCELLED              0\n",
       "dtype: int64"
      ]
     },
     "execution_count": 7,
     "metadata": {},
     "output_type": "execute_result"
    }
   ],
   "source": [
    "# Verification\n",
    "\n",
    "df_chat.isna().sum()"
   ]
  },
  {
   "cell_type": "markdown",
   "metadata": {},
   "source": [
    "#### **Convertion des champs de date (SCHEDULED_DEPARTURE, DEPARTURE_TIME, SCHEDULED_Arrival, Arrival_TIME)**"
   ]
  },
  {
   "cell_type": "markdown",
   "metadata": {},
   "source": [
    "1. SHEDULED_DEPARTURE"
   ]
  },
  {
   "cell_type": "code",
   "execution_count": 8,
   "metadata": {},
   "outputs": [
    {
     "data": {
      "text/plain": [
       "0     5\n",
       "1    10\n",
       "2    20\n",
       "3    20\n",
       "4    25\n",
       "Name: SCHEDULED_DEPARTURE, dtype: int64"
      ]
     },
     "execution_count": 8,
     "metadata": {},
     "output_type": "execute_result"
    }
   ],
   "source": [
    "#Prévisualisation\n",
    "df_chat[\"SCHEDULED_DEPARTURE\"].head()"
   ]
  },
  {
   "cell_type": "code",
   "execution_count": 10,
   "metadata": {},
   "outputs": [],
   "source": [
    "# Fonction pour gerer convertir des champs de type date\n",
    "from datetime import datetime\n",
    "\n",
    "def convert_to_time(time_str):\n",
    "    time_str = int(time_str)\n",
    "    time_str=str(time_str)\n",
    "    for i in range(4 - len(time_str)):\n",
    "        time_str = \"0\"+ time_str\n",
    "    return datetime.strptime(time_str, \"%H%M\").time()\n",
    "\n",
    "df_chat[\"SCHEDULED_DEPARTURE\"] = df_chat[\"SCHEDULED_DEPARTURE\"].apply(convert_to_time)\n"
   ]
  },
  {
   "cell_type": "code",
   "execution_count": 11,
   "metadata": {},
   "outputs": [
    {
     "data": {
      "text/plain": [
       "0          00:05:00\n",
       "1          00:10:00\n",
       "2          00:20:00\n",
       "3          00:20:00\n",
       "4          00:25:00\n",
       "             ...   \n",
       "5819074    23:59:00\n",
       "5819075    23:59:00\n",
       "5819076    23:59:00\n",
       "5819077    23:59:00\n",
       "5819078    23:59:00\n",
       "Name: SCHEDULED_DEPARTURE, Length: 5819079, dtype: object"
      ]
     },
     "execution_count": 11,
     "metadata": {},
     "output_type": "execute_result"
    }
   ],
   "source": [
    "#resultat\n",
    "df_chat[\"SCHEDULED_DEPARTURE\"]"
   ]
  },
  {
   "cell_type": "markdown",
   "metadata": {},
   "source": [
    "2. SCHEDULED_ARRIVAL"
   ]
  },
  {
   "cell_type": "code",
   "execution_count": 12,
   "metadata": {},
   "outputs": [
    {
     "data": {
      "text/plain": [
       "0    430\n",
       "1    750\n",
       "2    806\n",
       "3    805\n",
       "4    320\n",
       "Name: SCHEDULED_ARRIVAL, dtype: int64"
      ]
     },
     "execution_count": 12,
     "metadata": {},
     "output_type": "execute_result"
    }
   ],
   "source": [
    "# Previsualisation\n",
    "df_chat[\"SCHEDULED_ARRIVAL\"].head()"
   ]
  },
  {
   "cell_type": "code",
   "execution_count": 14,
   "metadata": {},
   "outputs": [
    {
     "name": "stdout",
     "output_type": "stream",
     "text": [
      "Erreur de conversion pour la valeur : 2400\n",
      "Erreur de conversion pour la valeur : 2400\n",
      "  SCHEDULED_ARRIVAL\n",
      "0          04:30:00\n",
      "1          07:50:00\n",
      "2          08:06:00\n",
      "3          08:05:00\n",
      "4          03:20:00\n"
     ]
    }
   ],
   "source": [
    "def convert_to_time1(time_value):\n",
    "    if pd.isna(time_value):  \n",
    "        return None\n",
    "    try:\n",
    "        time_str = str(int(float(time_value))).zfill(4)  # Convertir proprement en 4 chiffres\n",
    "        return datetime.strptime(time_str, \"%H%M\").time()  # Conversion en heure\n",
    "    except ValueError:\n",
    "        print(f\"Erreur de conversion pour la valeur : {time_value}\")  # Debugging\n",
    "        return None  # Retourne None si la conversion échoue\n",
    "\n",
    "# Appliquer la fonction sur la colonne\n",
    "df_chat[\"SCHEDULED_ARRIVAL\"] = df_chat[\"SCHEDULED_ARRIVAL\"].apply(convert_to_time1)\n",
    "\n",
    "# Vérifier les résultats\n",
    "print(df_chat[[\"SCHEDULED_ARRIVAL\"]].head())"
   ]
  },
  {
   "cell_type": "code",
   "execution_count": 15,
   "metadata": {},
   "outputs": [],
   "source": [
    "#gestion des valeurs 2400 de a colonne SHEDULED_ARRIVAL\n",
    "\n",
    "from datetime import time\n",
    "\n",
    "for index, row in df_chat.iterrows():\n",
    "    if row[\"SCHEDULED_ARRIVAL\"] == 2400:\n",
    "        df_chat.at[index, \"SCHEDULED_ARRIVAL\"] = time(0, 0, 0)  # Remplace par 00:00:00\n",
    "\n"
   ]
  },
  {
   "cell_type": "code",
   "execution_count": 20,
   "metadata": {},
   "outputs": [
    {
     "data": {
      "text/plain": [
       "0    04:30:00\n",
       "1    07:50:00\n",
       "2    08:06:00\n",
       "3    08:05:00\n",
       "4    03:20:00\n",
       "5    06:02:00\n",
       "6    05:26:00\n",
       "7    08:03:00\n",
       "8    05:45:00\n",
       "9    07:11:00\n",
       "Name: SCHEDULED_ARRIVAL, dtype: object"
      ]
     },
     "execution_count": 20,
     "metadata": {},
     "output_type": "execute_result"
    }
   ],
   "source": [
    "#Visualisation du resultat\n",
    "df_chat[\"SCHEDULED_ARRIVAL\"].head(10)"
   ]
  },
  {
   "cell_type": "markdown",
   "metadata": {},
   "source": [
    "3. ARRIVAL_TIME"
   ]
  },
  {
   "cell_type": "code",
   "execution_count": 21,
   "metadata": {},
   "outputs": [
    {
     "data": {
      "text/plain": [
       "0    408.0\n",
       "1    741.0\n",
       "2    811.0\n",
       "3    756.0\n",
       "4    259.0\n",
       "5    610.0\n",
       "6    509.0\n",
       "7    753.0\n",
       "8    532.0\n",
       "9    656.0\n",
       "Name: ARRIVAL_TIME, dtype: object"
      ]
     },
     "execution_count": 21,
     "metadata": {},
     "output_type": "execute_result"
    }
   ],
   "source": [
    "# Previsualisation \n",
    "df_chat[\"ARRIVAL_TIME\"].head(10)"
   ]
  },
  {
   "cell_type": "code",
   "execution_count": 19,
   "metadata": {},
   "outputs": [
    {
     "name": "stderr",
     "output_type": "stream",
     "text": [
      "C:\\Users\\HP\\AppData\\Local\\Temp\\ipykernel_23248\\2045259772.py:5: FutureWarning: Setting an item of incompatible dtype is deprecated and will raise an error in a future version of pandas. Value '00:00:00' has dtype incompatible with float64, please explicitly cast to a compatible dtype first.\n",
      "  df_chat.at[index, \"ARRIVAL_TIME\"] = time(0, 0, 0)\n"
     ]
    }
   ],
   "source": [
    "#gestion des lignes presentant la valeur 2400 equivalent à 00:00:00\n",
    "\n",
    "for index, row in df_chat.iterrows():\n",
    "    if row[\"ARRIVAL_TIME\"] == 2400:\n",
    "        df_chat.at[index, \"ARRIVAL_TIME\"] = time(0, 0, 0) "
   ]
  },
  {
   "cell_type": "code",
   "execution_count": 22,
   "metadata": {},
   "outputs": [],
   "source": [
    "#Gestion du reste des valeurs\n",
    "from datetime import datetime, time\n",
    "\n",
    "def convert_to_time2(time_str):\n",
    "    if pd.isna(time_str):  # Gestion des NaN\n",
    "        return None  \n",
    "    if isinstance(time_str, time):  # Vérifie si c'est déjà un format datetime.time\n",
    "        return time_str  \n",
    "    try:\n",
    "        time_str = int(float(time_str))  # Gère les valeurs float comme 408.0 → 408\n",
    "        if time_str < 0:  # Filtrer les valeurs négatives  \n",
    "            print(f\"Alerte : valeur négative détectée {time_str}\")         \n",
    "        time_str = str(time_str).zfill(4)  # Assure un format HHMM\n",
    "        return datetime.strptime(time_str, \"%H%M\").time()  # Convertit en time\n",
    "    except ValueError as e:\n",
    "        print(f\"Erreur avec la valeur {time_str}: {e}\")  # Affiche les erreurs pour debug\n",
    "        return None\n",
    "\n",
    "df_chat[\"ARRIVAL_TIME\"] = df_chat[\"ARRIVAL_TIME\"].apply(convert_to_time2)"
   ]
  },
  {
   "cell_type": "code",
   "execution_count": null,
   "metadata": {},
   "outputs": [],
   "source": [
    "#Visualisation finale\n",
    "\n",
    "print(df_chat[\"ARRIVAL_TIME\"].dtype)\n",
    "print(df_chat[\"ARRIVAL_TIME\"].head(10))"
   ]
  },
  {
   "cell_type": "markdown",
   "metadata": {},
   "source": [
    "4.  DEPARTURE_TIME"
   ]
  },
  {
   "cell_type": "code",
   "execution_count": null,
   "metadata": {},
   "outputs": [],
   "source": [
    "#previsualisation\n",
    "df_chat[\"DEPARTURE_TIME\"]"
   ]
  },
  {
   "cell_type": "code",
   "execution_count": null,
   "metadata": {},
   "outputs": [],
   "source": [
    "#gestion des lignes presentant la valeur 2400 equivalent à 00:00:00 (s'il y'en a)\n",
    "\n",
    "for index, row in df_chat.iterrows():\n",
    "    if row[\"DEPARTURE_TIME\"] == 2400:\n",
    "        df_chat.at[index, \"DEPARTURE_TIME\"] = time(0, 0, 0)\n",
    "    if row[\"DEPARTURE_TIME\"] == 2.0:\n",
    "        df_chat.at[index, \"DEPARTURE_TIME\"] = time(0, 2, 0)\n",
    "\n",
    "\n",
    "df_chat[\"DEPARTURE_TIME\"] = df_chat[\"DEPARTURE_TIME\"].apply(convert_to_time2)"
   ]
  },
  {
   "cell_type": "code",
   "execution_count": null,
   "metadata": {},
   "outputs": [],
   "source": [
    "# Gestion des ligne presanté la valeur -2 equivalente à 00:02\n",
    "\n",
    "if row[\"DEPARTURE_TIME\"] == -2 :\n",
    "        df_chat.at[index, \"DEPARTURE_TIME\"] = time(0, 2, 0)"
   ]
  },
  {
   "cell_type": "code",
   "execution_count": null,
   "metadata": {},
   "outputs": [],
   "source": [
    "#visualisation du resutat\n",
    "df_chat[\"DEPARTURE_TIME\"]"
   ]
  },
  {
   "cell_type": "markdown",
   "metadata": {},
   "source": [
    "#### Suppression des vol annulés (on s'interessera à la colonne CANCELLED)"
   ]
  },
  {
   "cell_type": "code",
   "execution_count": 23,
   "metadata": {},
   "outputs": [
    {
     "name": "stdout",
     "output_type": "stream",
     "text": [
      "         YEAR  MONTH  DAY  DAY_OF_WEEK AIRLINE  FLIGHT_NUMBER TAIL_NUMBER  \\\n",
      "32       2015      1    1            4      AS            136      N431AS   \n",
      "42       2015      1    1            4      AA           2459      N3BDAA   \n",
      "68       2015      1    1            4      OO           5254      N746SK   \n",
      "82       2015      1    1            4      MQ           2859      N660MQ   \n",
      "90       2015      1    1            4      OO           5460      N583SW   \n",
      "...       ...    ...  ...          ...     ...            ...         ...   \n",
      "5818090  2015     12   31            4      UA           1789      N480HA   \n",
      "5818157  2015     12   31            4      UA            222      N480HA   \n",
      "5818318  2015     12   31            4      AA           2245      N880AA   \n",
      "5818777  2015     12   31            4      NK            416      N522NK   \n",
      "5818843  2015     12   31            4      AA           1042      N870AA   \n",
      "\n",
      "        ORIGIN_AIRPORT DESTINATION_AIRPORT SCHEDULED_DEPARTURE  ...  \\\n",
      "32                 ANC                 SEA            01:35:00  ...   \n",
      "42                 PHX                 DFW            02:00:00  ...   \n",
      "68                 MAF                 IAH            05:10:00  ...   \n",
      "82                 SGF                 DFW            05:25:00  ...   \n",
      "90                 RDD                 SFO            05:30:00  ...   \n",
      "...                ...                 ...                 ...  ...   \n",
      "5818090            IAH                 TPA            19:55:00  ...   \n",
      "5818157            SFO                 LAX            20:00:00  ...   \n",
      "5818318            MIA                 SAN            20:19:00  ...   \n",
      "5818777            FLL                 IAG            21:55:00  ...   \n",
      "5818843            SAN                 MIA            22:10:00  ...   \n",
      "\n",
      "         ELAPSED_TIME  AIR_TIME  DISTANCE  WHEELS_ON  TAXI_IN  \\\n",
      "32              118.0      94.0      1448     1509.0      6.0   \n",
      "42              118.0      94.0       868     1509.0      6.0   \n",
      "68              118.0      94.0       429     1509.0      6.0   \n",
      "82              118.0      94.0       364     1509.0      6.0   \n",
      "90              118.0      94.0       199     1509.0      6.0   \n",
      "...               ...       ...       ...        ...      ...   \n",
      "5818090         118.0      94.0       787     1509.0      6.0   \n",
      "5818157         118.0      94.0       337     1509.0      6.0   \n",
      "5818318         118.0      94.0      2267     1509.0      6.0   \n",
      "5818777         118.0      94.0      1176     1509.0      6.0   \n",
      "5818843         118.0      94.0      2267     1509.0      6.0   \n",
      "\n",
      "         SCHEDULED_ARRIVAL  ARRIVAL_TIME  ARRIVAL_DELAY  DIVERTED  CANCELLED  \n",
      "32                06:00:00      15:12:00           -5.0         0          1  \n",
      "42                05:00:00      15:12:00           -5.0         0          1  \n",
      "68                06:37:00      15:12:00           -5.0         0          1  \n",
      "82                07:00:00      15:12:00           -5.0         0          1  \n",
      "90                07:00:00      15:12:00           -5.0         0          1  \n",
      "...                    ...           ...            ...       ...        ...  \n",
      "5818090           23:00:00      15:12:00           -5.0         0          1  \n",
      "5818157           21:36:00      15:12:00           -5.0         0          1  \n",
      "5818318           22:56:00      15:12:00           -5.0         0          1  \n",
      "5818777           00:50:00      15:12:00           -5.0         0          1  \n",
      "5818843           05:47:00      15:12:00           -5.0         0          1  \n",
      "\n",
      "[89884 rows x 25 columns]\n"
     ]
    }
   ],
   "source": [
    "# Visualisation des vols annulés\n",
    "print(df_chat[df_chat[\"CANCELLED\"] == 1])"
   ]
  },
  {
   "cell_type": "code",
   "execution_count": null,
   "metadata": {},
   "outputs": [],
   "source": [
    "# Concervation les vols effectuer uniquements\n",
    "\n",
    "df_chat = df_chat[df_chat[\"CANCELLED\"] == 0]\n",
    "\n",
    "#Reinitialisation des index\n",
    "df_chat = df_chat[df_chat[\"CANCELLED\"] == 0].reset_index(drop=True)\n",
    "\n",
    "#test pour voir s'il ne reste que des enregistrements dont la valeur de la colonne CANCELLED vaut 0\n",
    "print(df_chat[\"CANCELLED\"].unique())  "
   ]
  },
  {
   "cell_type": "markdown",
   "metadata": {},
   "source": [
    "### Generation du data_cleaned"
   ]
  },
  {
   "cell_type": "code",
   "execution_count": null,
   "metadata": {},
   "outputs": [],
   "source": [
    "df_chat.to_csv(\"../data/cleaned/data_cleaned.csv\", index=False)"
   ]
  },
  {
   "cell_type": "markdown",
   "metadata": {},
   "source": [
    "### Encodage des variable Catégorielle  de valeur categorielle"
   ]
  },
  {
   "cell_type": "code",
   "execution_count": null,
   "metadata": {},
   "outputs": [],
   "source": [
    "import category_encoders as ce\n",
    "\n",
    "# Liste des colonnes à encoder\n",
    "columns_to_encode = [\"DAY_OF_WEEK\", \"AIRLINE\", \"ORIGIN_AIRPORT\", \"DESTINATION_AIRPORT\"]\n",
    "\n",
    "# Vérifie que les colonnes existent dans df_chat\n",
    "for col in columns_to_encode:\n",
    "    if col not in df_chat.columns:\n",
    "        print(f\"  La colonne '{col}' est absente du df\")\n",
    "\n",
    "# Initialisation du Hashing Encoder\n",
    "encoder = ce.HashingEncoder(cols=columns_to_encode, n_components=8)\n",
    "\n",
    "# Transformation des données\n",
    "df_encoded = encoder.fit_transform(df_chat)\n",
    "\n",
    "print(df_encoded.head())"
   ]
  },
  {
   "cell_type": "code",
   "execution_count": null,
   "metadata": {},
   "outputs": [],
   "source": [
    "\n",
    "# visualisation du data_encoded\n",
    "df_encoded.head()"
   ]
  },
  {
   "cell_type": "markdown",
   "metadata": {},
   "source": [
    "### Convertion en minute des valeurs de SCHEDULED_DEPARTURE"
   ]
  },
  {
   "cell_type": "code",
   "execution_count": null,
   "metadata": {},
   "outputs": [],
   "source": [
    "def time_to_minutes(time_obj):\n",
    "    return time_obj.hour * 60 + time_obj.minute  # Convertir en minutes\n",
    "\n",
    "# Appliquer la transformation à la colonne\n",
    "df_encoded[\"SCHEDULED_DEPARTURE_MINUTES\"] = df_encoded[\"SCHEDULED_DEPARTURE\"].apply(time_to_minutes)\n",
    "\n",
    "# Vérifier le résultat\n",
    "print(df_encoded[[\"SCHEDULED_DEPARTURE\", \"SCHEDULED_DEPARTURE_MINUTES\"]].head())"
   ]
  },
  {
   "cell_type": "markdown",
   "metadata": {},
   "source": [
    "### creation du data_cluster"
   ]
  },
  {
   "cell_type": "code",
   "execution_count": null,
   "metadata": {},
   "outputs": [],
   "source": [
    "df_encoded.to_csv(\"../data/enriched/data_for_price.csv\", index=False)"
   ]
  }
 ],
 "metadata": {
  "kernelspec": {
   "display_name": "Python 3",
   "language": "python",
   "name": "python3"
  },
  "language_info": {
   "codemirror_mode": {
    "name": "ipython",
    "version": 3
   },
   "file_extension": ".py",
   "mimetype": "text/x-python",
   "name": "python",
   "nbconvert_exporter": "python",
   "pygments_lexer": "ipython3",
   "version": "3.12.0"
  }
 },
 "nbformat": 4,
 "nbformat_minor": 2
}
